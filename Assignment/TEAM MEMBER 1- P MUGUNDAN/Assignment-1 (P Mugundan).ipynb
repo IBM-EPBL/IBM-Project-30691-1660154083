{
  "metadata": {
    "language_info": {
      "codemirror_mode": {
        "name": "python",
        "version": 3
      },
      "file_extension": ".py",
      "mimetype": "text/x-python",
      "name": "python",
      "nbconvert_exporter": "python",
      "pygments_lexer": "ipython3",
      "version": "3.8"
    },
    "kernelspec": {
      "name": "python",
      "display_name": "Python (Pyodide)",
      "language": "python"
    }
  },
  "nbformat_minor": 4,
  "nbformat": 4,
  "cells": [
    {
      "cell_type": "code",
      "source": "#!/usr/bin/env python\n# coding: utf-8\n\n# # Basic Python\n\n# ## 1. Split this string\n\n# In[ ]:\n\n\ns = \"Hi there Sam!\"\n\n\n# In[3]:\n\n\ns = 'Hi there Sam!'\ns.split()\n\n\n# *`italicized text`*## 2. Use .format() to print the following string. \n# \n# ### Output should be: The diameter of Earth is 12742 kilometers.\n\n# In[ ]:\n\n\nplanet = \"Earth\"\ndiameter = 12742\n\n\n# In[2]:\n\n\n\nplanet = \"Earth\"\ndiameter = 12742\nprint(\"The diameter of {} is {} kilometers.\".format(planet,diameter))\n\n\n# ## 3. In this nest dictionary grab the word \"hello\"\n\n# In[ ]:\n\n\nd = {'k1':[1,2,3,{'tricky':['oh','man','inception',{'target':[1,2,3,'hello']}]}]}\n\n\n# In[7]:\n\n\nd['k1'][3]['tricky'][3]['target'][3]\n\n\n# # Numpy\n\n# In[8]:\n\n\nimport numpy as np\n\n\n# ## 4.1 Create an array of 10 zeros? \n# ## 4.2 Create an array of 10 fives?\n\n# In[11]:\n\n\nnp.zeros(10)\n\n\n# In[13]:\n\n\nnp.ones(10) * 5\n\n\n# ## 5. Create an array of all the even integers from 20 to 35\n\n# In[15]:\n\n\nimport numpy as np\narray=np.arange(20,35)\nprint(array)\n\n\n# ## 6. Create a 3x3 matrix with values ranging from 0 to 8\n\n# In[ ]:\n\n\nnp.arange(0,9).reshape((3,3))\n\n\n# ## 7. Concatinate a and b \n# ## a = np.array([1, 2, 3]), b = np.array([4, 5, 6])\n\n# In[18]:\n\n\na= np.array([[1, 2, 3], [4, 5, 6]])\n\n\n# # Pandas\n\n# ## 8. Create a dataframe with 3 rows and 2 columns\n\n# In[ ]:\n\n\nimport pandas as pd\n\n\n# In[20]:\n\n\nimport numpy as np\nA = np.random.randint(10, size=(3,2))\n\n\n# ## 9. Generate the series of dates from 1st Jan, 2023 to 10th Feb, 2023\n\n# In[21]:\n\n\nimport pandas\npandas.date_range(sdate,edate-timedelta(days=1),freq='d')\n\n\n# ## 10. Create 2D list to DataFrame\n# \n# lists = [[1, 'aaa', 22],\n#          [2, 'bbb', 25],\n#          [3, 'ccc', 24]]\n\n# In[ ]:\n\n\nlists = [[1, 'aaa', 22], [2, 'bbb', 25], [3, 'ccc', 24]]\n\n\n# In[22]:\n\n\nimport pandas as pd.\nimport numpy as np.\narr= np.array([[1, 'aaa', 22], [2, 'bbb', 25], [3, 'ccc', 24]])\ndf=pd.DataFrame(arr)\nprint(df)\n\n\n# In[ ]:",
      "metadata": {},
      "execution_count": null,
      "outputs": []
    }
  ]
}